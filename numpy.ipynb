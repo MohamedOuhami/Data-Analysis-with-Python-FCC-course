{
 "cells": [
  {
   "cell_type": "markdown",
   "metadata": {},
   "source": [
    "In this section, we're going to see how we're going to be working with numpy as a Python library"
   ]
  },
  {
   "cell_type": "markdown",
   "metadata": {},
   "source": [
    " ================  Importing numpy"
   ]
  },
  {
   "cell_type": "code",
   "execution_count": 16,
   "metadata": {},
   "outputs": [],
   "source": [
    "import numpy as np"
   ]
  },
  {
   "cell_type": "markdown",
   "metadata": {},
   "source": [
    "Creating an array in Numpy"
   ]
  },
  {
   "cell_type": "code",
   "execution_count": 17,
   "metadata": {},
   "outputs": [
    {
     "name": "stdout",
     "output_type": "stream",
     "text": [
      "1\n",
      "4\n",
      "[2 3 4]\n",
      "[1 2]\n"
     ]
    },
    {
     "data": {
      "text/plain": [
       "(1, 4)"
      ]
     },
     "execution_count": 17,
     "metadata": {},
     "output_type": "execute_result"
    }
   ],
   "source": [
    "a = np.array([1,2,3,4])\n",
    "\n",
    "print(a[0])\n",
    "print(a[3])\n",
    "print(a[1:])\n",
    "print(a[:2])\n",
    "\n",
    "\n",
    "# You are creating a list based on the elements you add separated by a comma\n",
    "a[0],a[3]"
   ]
  },
  {
   "cell_type": "markdown",
   "metadata": {},
   "source": [
    "Dimensions and Shapes"
   ]
  },
  {
   "cell_type": "code",
   "execution_count": 18,
   "metadata": {},
   "outputs": [
    {
     "data": {
      "text/plain": [
       "2"
      ]
     },
     "execution_count": 18,
     "metadata": {},
     "output_type": "execute_result"
    }
   ],
   "source": [
    "# Creating a matrix\n",
    "b = np.array([[1,2,3,4],[5,6,7,8]])\n",
    "\n",
    "# Getting the shape of the matrix ( Rows and Columns )\n",
    "b.shape\n",
    "\n",
    "# How many dimensions does It have ?\n",
    "b.ndim\n"
   ]
  },
  {
   "cell_type": "markdown",
   "metadata": {},
   "source": [
    "Statisitical Operations on Matrices"
   ]
  },
  {
   "cell_type": "code",
   "execution_count": 20,
   "metadata": {},
   "outputs": [
    {
     "data": {
      "text/plain": [
       "array([10, 26])"
      ]
     },
     "execution_count": 20,
     "metadata": {},
     "output_type": "execute_result"
    }
   ],
   "source": [
    "# Getting the sum of the matrix\n",
    "b.sum()\n",
    "\n",
    "# Getting the mean of the matrix ( moyenne )\n",
    "b.mean()\n",
    "\n",
    "# Getting the sum of each column\n",
    "# FIrst row\n",
    "b.sum(axis=0)\n",
    "# Second row\n",
    "b.sum(axis=1)"
   ]
  },
  {
   "cell_type": "code",
   "execution_count": 21,
   "metadata": {},
   "outputs": [
    {
     "name": "stdout",
     "output_type": "stream",
     "text": [
      "[['a' 'b']\n",
      " ['d' 'e']\n",
      " ['g' 'h']]\n"
     ]
    }
   ],
   "source": [
    "A = np.array([\n",
    "    ['a', 'b', 'c'],\n",
    "    ['d', 'e', 'f'],\n",
    "    ['g', 'h', 'i']\n",
    "])\n",
    "\n",
    "print(A[:, :2])"
   ]
  },
  {
   "cell_type": "markdown",
   "metadata": {},
   "source": [
    "Arranging a matrix "
   ]
  },
  {
   "cell_type": "code",
   "execution_count": 27,
   "metadata": {},
   "outputs": [
    {
     "name": "stdout",
     "output_type": "stream",
     "text": [
      "[2 3 4 5 6]\n"
     ]
    }
   ],
   "source": [
    "# Creating a new matrix ranfing from 0 to 4 with 5 elements\n",
    "c = np.arange(2,7)\n",
    "print(c)"
   ]
  }
 ],
 "metadata": {
  "kernelspec": {
   "display_name": "Python 3.10.6 64-bit",
   "language": "python",
   "name": "python3"
  },
  "language_info": {
   "codemirror_mode": {
    "name": "ipython",
    "version": 3
   },
   "file_extension": ".py",
   "mimetype": "text/x-python",
   "name": "python",
   "nbconvert_exporter": "python",
   "pygments_lexer": "ipython3",
   "version": "3.10.6"
  },
  "orig_nbformat": 4,
  "vscode": {
   "interpreter": {
    "hash": "916dbcbb3f70747c44a77c7bcd40155683ae19c65e1c03b4aa3499c5328201f1"
   }
  }
 },
 "nbformat": 4,
 "nbformat_minor": 2
}
