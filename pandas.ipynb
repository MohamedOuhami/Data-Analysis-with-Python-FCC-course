{
 "cells": [
  {
   "cell_type": "markdown",
   "metadata": {},
   "source": [
    "Data Analysis with Pandas"
   ]
  },
  {
   "cell_type": "code",
   "execution_count": 3,
   "metadata": {},
   "outputs": [],
   "source": [
    "# Importing Numpy and Pandas\n",
    "import numpy as np\n",
    "import pandas as pd"
   ]
  },
  {
   "cell_type": "markdown",
   "metadata": {},
   "source": [
    "Pandas Series"
   ]
  },
  {
   "cell_type": "code",
   "execution_count": 8,
   "metadata": {},
   "outputs": [
    {
     "data": {
      "text/plain": [
       "Mohamed       18.0\n",
       "Abdelkader    14.0\n",
       "Bassma        16.6\n",
       "ADONISSSSS    20.0\n",
       "Name: The notes of the motherfuckers in my class, dtype: float64"
      ]
     },
     "execution_count": 8,
     "metadata": {},
     "output_type": "execute_result"
    }
   ],
   "source": [
    "# Creating a series\n",
    "\n",
    "notes = pd.Series([18.0,14.0,16.6,20])\n",
    "notes\n",
    "\n",
    "# We can name the Series\n",
    "notes.name = \"The notes of the motherfuckers in my class\"\n",
    "notes\n",
    "\n",
    "# We can even go on and name the indexes of the default ones given by the pandas\n",
    "\n",
    "notes.index = ([\n",
    "    \"Mohamed\",\"Abdelkader\",\"Bassma\",\"ADONISSSSS\"\n",
    "])\n",
    "\n",
    "# Or you can combine them in teh form of a dictionary\n",
    "notes"
   ]
  },
  {
   "cell_type": "markdown",
   "metadata": {},
   "source": [
    "Conditional Series"
   ]
  },
  {
   "cell_type": "code",
   "execution_count": 11,
   "metadata": {},
   "outputs": [
    {
     "data": {
      "text/plain": [
       "Mohamed       18.0\n",
       "Bassma        16.6\n",
       "ADONISSSSS    20.0\n",
       "Name: The notes of the motherfuckers in my class, dtype: float64"
      ]
     },
     "execution_count": 11,
     "metadata": {},
     "output_type": "execute_result"
    }
   ],
   "source": [
    "# It gives the boolean values of the items in the series\n",
    "notes > 15\n",
    "\n",
    "# It gives you only the members who passed the conditions\n",
    "notes[notes > 15]"
   ]
  },
  {
   "cell_type": "markdown",
   "metadata": {},
   "source": [
    "Dealing with DataFrames"
   ]
  },
  {
   "cell_type": "code",
   "execution_count": 19,
   "metadata": {},
   "outputs": [
    {
     "name": "stdout",
     "output_type": "stream",
     "text": [
      "<class 'pandas.core.frame.DataFrame'>\n",
      "Index: 7 entries, Mohamed to Ronaldo\n",
      "Data columns (total 3 columns):\n",
      " #   Column        Non-Null Count  Dtype  \n",
      "---  ------        --------------  -----  \n",
      " 0   Final Note    7 non-null      float64\n",
      " 1   Age           7 non-null      int64  \n",
      " 2   Observations  7 non-null      object \n",
      "dtypes: float64(1), int64(1), object(1)\n",
      "memory usage: 224.0+ bytes\n"
     ]
    }
   ],
   "source": [
    "notes = pd.DataFrame({\n",
    "    \"Final Note\":[19,18,15,18.5,9,4,3],\n",
    "    \"Age\":[20,20,21,25,19,18,20],\n",
    "    \"Observations\":[\"Funny\",\"Chaotic\",\"Does not pay attention\",\"Funny\",\"Has potential\",\"Bad Student\",\"SUIIIII\"]\n",
    "},\n",
    "index = [\"Mohamed\",\"Bassma\",\"Nassim\",\"Luna\",\"Atay\",\"Najat\",\"Ronaldo\"])\n",
    "notes\n",
    "\n",
    "notes.info()"
   ]
  },
  {
   "cell_type": "code",
   "execution_count": 24,
   "metadata": {},
   "outputs": [
    {
     "data": {
      "text/plain": [
       "Final Note       19.0\n",
       "Age                20\n",
       "Observations    Funny\n",
       "Name: Mohamed, dtype: object"
      ]
     },
     "execution_count": 24,
     "metadata": {},
     "output_type": "execute_result"
    }
   ],
   "source": [
    "notes[\"Final Note\"].to_frame()\n",
    "\n",
    "# The loc gets you to choose the rows that you want\n",
    "notes.loc[\"Mohamed\"]"
   ]
  },
  {
   "cell_type": "code",
   "execution_count": 26,
   "metadata": {},
   "outputs": [
    {
     "data": {
      "text/html": [
       "<div>\n",
       "<style scoped>\n",
       "    .dataframe tbody tr th:only-of-type {\n",
       "        vertical-align: middle;\n",
       "    }\n",
       "\n",
       "    .dataframe tbody tr th {\n",
       "        vertical-align: top;\n",
       "    }\n",
       "\n",
       "    .dataframe thead th {\n",
       "        text-align: right;\n",
       "    }\n",
       "</style>\n",
       "<table border=\"1\" class=\"dataframe\">\n",
       "  <thead>\n",
       "    <tr style=\"text-align: right;\">\n",
       "      <th></th>\n",
       "      <th>Final Note</th>\n",
       "      <th>Age</th>\n",
       "      <th>Observations</th>\n",
       "      <th>Note per age</th>\n",
       "    </tr>\n",
       "  </thead>\n",
       "  <tbody>\n",
       "    <tr>\n",
       "      <th>Mohamed</th>\n",
       "      <td>19.0</td>\n",
       "      <td>20</td>\n",
       "      <td>Funny</td>\n",
       "      <td>0.950000</td>\n",
       "    </tr>\n",
       "    <tr>\n",
       "      <th>Bassma</th>\n",
       "      <td>18.0</td>\n",
       "      <td>20</td>\n",
       "      <td>Chaotic</td>\n",
       "      <td>0.900000</td>\n",
       "    </tr>\n",
       "    <tr>\n",
       "      <th>Nassim</th>\n",
       "      <td>15.0</td>\n",
       "      <td>21</td>\n",
       "      <td>Does not pay attention</td>\n",
       "      <td>0.714286</td>\n",
       "    </tr>\n",
       "    <tr>\n",
       "      <th>Luna</th>\n",
       "      <td>18.5</td>\n",
       "      <td>25</td>\n",
       "      <td>Funny</td>\n",
       "      <td>0.740000</td>\n",
       "    </tr>\n",
       "    <tr>\n",
       "      <th>Atay</th>\n",
       "      <td>9.0</td>\n",
       "      <td>19</td>\n",
       "      <td>Has potential</td>\n",
       "      <td>0.473684</td>\n",
       "    </tr>\n",
       "    <tr>\n",
       "      <th>Najat</th>\n",
       "      <td>4.0</td>\n",
       "      <td>18</td>\n",
       "      <td>Bad Student</td>\n",
       "      <td>0.222222</td>\n",
       "    </tr>\n",
       "    <tr>\n",
       "      <th>Ronaldo</th>\n",
       "      <td>3.0</td>\n",
       "      <td>20</td>\n",
       "      <td>SUIIIII</td>\n",
       "      <td>0.150000</td>\n",
       "    </tr>\n",
       "  </tbody>\n",
       "</table>\n",
       "</div>"
      ],
      "text/plain": [
       "         Final Note  Age            Observations  Note per age\n",
       "Mohamed        19.0   20                   Funny      0.950000\n",
       "Bassma         18.0   20                 Chaotic      0.900000\n",
       "Nassim         15.0   21  Does not pay attention      0.714286\n",
       "Luna           18.5   25                   Funny      0.740000\n",
       "Atay            9.0   19           Has potential      0.473684\n",
       "Najat           4.0   18             Bad Student      0.222222\n",
       "Ronaldo         3.0   20                 SUIIIII      0.150000"
      ]
     },
     "execution_count": 26,
     "metadata": {},
     "output_type": "execute_result"
    }
   ],
   "source": [
    "# We can even add other columns from available columns\n",
    "\n",
    "notes[\"Note per age\"] = notes[\"Final Note\"] / notes[\"Age\"]\n",
    "notes"
   ]
  }
 ],
 "metadata": {
  "kernelspec": {
   "display_name": "Python 3.10.6 64-bit",
   "language": "python",
   "name": "python3"
  },
  "language_info": {
   "codemirror_mode": {
    "name": "ipython",
    "version": 3
   },
   "file_extension": ".py",
   "mimetype": "text/x-python",
   "name": "python",
   "nbconvert_exporter": "python",
   "pygments_lexer": "ipython3",
   "version": "3.10.6"
  },
  "orig_nbformat": 4,
  "vscode": {
   "interpreter": {
    "hash": "916dbcbb3f70747c44a77c7bcd40155683ae19c65e1c03b4aa3499c5328201f1"
   }
  }
 },
 "nbformat": 4,
 "nbformat_minor": 2
}
